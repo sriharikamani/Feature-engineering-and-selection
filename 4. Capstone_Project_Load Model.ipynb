{
 "cells": [
  {
   "cell_type": "markdown",
   "metadata": {},
   "source": [
    "# Capstone Project - Predicting House Prices in KING COUNTY                                                     "
   ]
  },
  {
   "cell_type": "markdown",
   "metadata": {},
   "source": [
    "### The purpose of this program is to prepare data readiness to make new predictions by retrieving model from the disk"
   ]
  },
  {
   "cell_type": "markdown",
   "metadata": {},
   "source": [
    "### The data columns that require to make new predictions are"
   ]
  },
  {
   "cell_type": "raw",
   "metadata": {},
   "source": [
    "Column Name     Notes\n",
    "-----------     -----\n",
    "cid             To check and remove the duplicate house notifications (if any). Later this column is dropped\n",
    "dayhours        Date house was sold      \n",
    "price           price of the house       \n",
    "living_measure  Square footage of the home      \n",
    "lot_measure     Square footage of the lot      \n",
    "coast           House which has a view to a waterfront    \n",
    "sight           How many times customers viewed the house. For new predictions, considering value of sight = 0 ONLY  \n",
    "ceil_measure    square footage of house apart from basement   \n",
    "yr_built        Year the house was constructed\n",
    "zipcode         House area zip code\n",
    "lat             Latitude coordinate    \n",
    "long            Longitude coordinate   \n",
    "furnished       House furnished or not     "
   ]
  },
  {
   "cell_type": "code",
   "execution_count": null,
   "metadata": {},
   "outputs": [],
   "source": []
  },
  {
   "cell_type": "code",
   "execution_count": 12,
   "metadata": {},
   "outputs": [],
   "source": [
    "%matplotlib inline\n",
    "import numpy as np\n",
    "import pandas as pd\n",
    "import warnings\n",
    "warnings.filterwarnings('ignore')\n",
    "from sklearn.externals import joblib\n",
    "from sklearn.metrics import mean_squared_error\n",
    "from sklearn.metrics import r2_score"
   ]
  },
  {
   "cell_type": "code",
   "execution_count": 13,
   "metadata": {},
   "outputs": [],
   "source": [
    "# Load the HOUSE Dataset\n",
    "sample = pd.read_csv(\"sample.csv\")"
   ]
  },
  {
   "cell_type": "code",
   "execution_count": 14,
   "metadata": {},
   "outputs": [
    {
     "data": {
      "text/plain": [
       "(2000, 13)"
      ]
     },
     "execution_count": 14,
     "metadata": {},
     "output_type": "execute_result"
    }
   ],
   "source": [
    "sample.shape"
   ]
  },
  {
   "cell_type": "code",
   "execution_count": 15,
   "metadata": {},
   "outputs": [
    {
     "data": {
      "text/plain": [
       "cid                 int64\n",
       "dayhours           object\n",
       "price               int64\n",
       "living_measure      int64\n",
       "lot_measure         int64\n",
       "coast               int64\n",
       "sight               int64\n",
       "ceil_measure        int64\n",
       "yr_built            int64\n",
       "zipcode             int64\n",
       "lat               float64\n",
       "long              float64\n",
       "furnished           int64\n",
       "dtype: object"
      ]
     },
     "execution_count": 15,
     "metadata": {},
     "output_type": "execute_result"
    }
   ],
   "source": [
    "sample.dtypes"
   ]
  },
  {
   "cell_type": "markdown",
   "metadata": {},
   "source": [
    "# Data readiness to make new predictions"
   ]
  },
  {
   "cell_type": "markdown",
   "metadata": {},
   "source": [
    "### Create new column representing Premium house if the cost of house (> 1128000)"
   ]
  },
  {
   "cell_type": "code",
   "execution_count": 16,
   "metadata": {},
   "outputs": [],
   "source": [
    "sample['Premium_House']   = ''\n",
    "rec_count = sample.shape[0]\n",
    "\n",
    "for i in range(rec_count):\n",
    "    if  (sample['price'][i] >= 1128000):\n",
    "        sample['Premium_House'][i] = 1\n",
    "    else:\n",
    "        sample['Premium_House'][i] = 0"
   ]
  },
  {
   "cell_type": "markdown",
   "metadata": {},
   "source": [
    "### Extract Year and Month from the column dayhours, add to the database and then drop the attribute dayhours"
   ]
  },
  {
   "cell_type": "code",
   "execution_count": 17,
   "metadata": {},
   "outputs": [],
   "source": [
    "sample['dayhours']    = sample['dayhours'].astype(str)\n",
    "sample['sold_year']   = sample['dayhours'].str[:4].astype(np.int64)\n",
    "sample['sold_month']  = sample['dayhours'].str[4:6].astype(np.int64)\n",
    "sample.drop('dayhours', axis = 1 , inplace= True)"
   ]
  },
  {
   "cell_type": "markdown",
   "metadata": {},
   "source": [
    "### Calculate the age of the property and age after renovation before sold year"
   ]
  },
  {
   "cell_type": "code",
   "execution_count": 18,
   "metadata": {},
   "outputs": [],
   "source": [
    "sample['house_age']   = (sample['sold_year'] - sample['yr_built']).astype(np.int64) "
   ]
  },
  {
   "cell_type": "markdown",
   "metadata": {},
   "source": [
    "### Check for duplicates based on the feature \"cid\""
   ]
  },
  {
   "cell_type": "code",
   "execution_count": 19,
   "metadata": {},
   "outputs": [],
   "source": [
    "sample= sample.drop_duplicates(['cid'])"
   ]
  },
  {
   "cell_type": "code",
   "execution_count": 20,
   "metadata": {},
   "outputs": [],
   "source": [
    "sample = sample.drop(['cid', 'sold_year','sold_month'], axis=1) \n",
    "sample = sample.drop(['yr_built'], axis=1)\n",
    "#sample = sample.drop(['yr_renovated'], axis=1)"
   ]
  },
  {
   "cell_type": "code",
   "execution_count": 21,
   "metadata": {},
   "outputs": [],
   "source": [
    "# Considering only sight = 0 columns and dropping rest of them as model doesn't require sight = 1,2,3,4\n",
    "\n",
    "Hot_encoding  = pd.get_dummies(sample['sight'])\n",
    "Hot_encoding  = Hot_encoding[0]\n",
    "sample        = sample.drop(['sight'], axis=1)\n",
    "sample['sight 0'] = Hot_encoding[0].astype(np.int64)"
   ]
  },
  {
   "cell_type": "code",
   "execution_count": 22,
   "metadata": {},
   "outputs": [],
   "source": [
    "# change the sequence of the columns\n",
    "sample = sample[['house_age', 'Premium_House','living_measure', 'lot_measure', 'coast', 'ceil_measure', \n",
    "                   'zipcode', 'lat', 'long','furnished', 'sight 0','price']]"
   ]
  },
  {
   "cell_type": "markdown",
   "metadata": {},
   "source": [
    "### break the sample data to predictor data and label "
   ]
  },
  {
   "cell_type": "code",
   "execution_count": 23,
   "metadata": {},
   "outputs": [],
   "source": [
    "sample_data,sample_label =sample.iloc[:,:-1],sample.iloc[:,-1]"
   ]
  },
  {
   "cell_type": "markdown",
   "metadata": {},
   "source": [
    "# End of Data readiness to make new predictions"
   ]
  },
  {
   "cell_type": "raw",
   "metadata": {},
   "source": []
  },
  {
   "cell_type": "markdown",
   "metadata": {},
   "source": [
    "# Load the Model from the drive"
   ]
  },
  {
   "cell_type": "code",
   "execution_count": 24,
   "metadata": {},
   "outputs": [],
   "source": [
    "from sklearn.externals import joblib\n",
    "filename = 'finalized_model.sav'"
   ]
  },
  {
   "cell_type": "code",
   "execution_count": 25,
   "metadata": {},
   "outputs": [],
   "source": [
    "loaded_model = joblib.load(filename)"
   ]
  },
  {
   "cell_type": "code",
   "execution_count": 26,
   "metadata": {},
   "outputs": [],
   "source": [
    "Pred = loaded_model.predict(sample_data)"
   ]
  },
  {
   "cell_type": "code",
   "execution_count": 27,
   "metadata": {},
   "outputs": [
    {
     "name": "stdout",
     "output_type": "stream",
     "text": [
      "RMSE      : 88012.55\n",
      "R-Squared : 0.95\n"
     ]
    }
   ],
   "source": [
    "print(\"RMSE      : %.2f\" % np.sqrt(mean_squared_error(sample_label, Pred))) \n",
    "print('R-Squared : %.2f' % r2_score(sample_label, Pred))  "
   ]
  },
  {
   "cell_type": "raw",
   "metadata": {},
   "source": []
  },
  {
   "cell_type": "markdown",
   "metadata": {},
   "source": [
    "# End of Program"
   ]
  }
 ],
 "metadata": {
  "kernelspec": {
   "display_name": "Python 3",
   "language": "python",
   "name": "python3"
  },
  "language_info": {
   "codemirror_mode": {
    "name": "ipython",
    "version": 3
   },
   "file_extension": ".py",
   "mimetype": "text/x-python",
   "name": "python",
   "nbconvert_exporter": "python",
   "pygments_lexer": "ipython3",
   "version": "3.6.6"
  }
 },
 "nbformat": 4,
 "nbformat_minor": 2
}
